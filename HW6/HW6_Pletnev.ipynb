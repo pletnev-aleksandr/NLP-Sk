{
 "cells": [
  {
   "cell_type": "markdown",
   "metadata": {},
   "source": [
    "HW 6: Pletnev"
   ]
  },
  {
   "cell_type": "code",
   "execution_count": 4,
   "metadata": {},
   "outputs": [],
   "source": [
    "import pandas as pd"
   ]
  },
  {
   "cell_type": "markdown",
   "metadata": {},
   "source": [
    "## Problem 6.1"
   ]
  },
  {
   "cell_type": "markdown",
   "metadata": {},
   "source": [
    "### a) Iteration 3:"
   ]
  },
  {
   "cell_type": "markdown",
   "metadata": {},
   "source": [
    "#### NULL the dog :: der Hund"
   ]
  },
  {
   "cell_type": "raw",
   "metadata": {},
   "source": [
    "J = 1\n",
    "\n",
    "total = P(der|NULL)+P(der|the)+P(der|dog)= 0.57 + 0.57 + 0.4 = 1.54\n",
    "\n",
    "tc(der|NULL) += P(der|NULL)/1.54 = 0.37\n",
    "tc(der|the) += P(der|the)/1.54 = 0.37\n",
    "tc(der|dog) += P(der|dog)/1.54 = 0.259"
   ]
  },
  {
   "cell_type": "raw",
   "metadata": {},
   "source": [
    "J = 2\n",
    "\n",
    "total = P(Hund|NULL)+P(Hund|the)+P(Hund|dog)= 0.214 +0.214 + 0.6 = 1.028\n",
    "\n",
    "tc(Hund|NULL) += P(Hund|NULL)/1.028 = 0.208\n",
    "tc(Hund|the) += P(Hund|the)/1.028 = 0.208\n",
    "tc(Hund|dog) += P(Hund|dog)/1.028 = 0.583"
   ]
  },
  {
   "cell_type": "markdown",
   "metadata": {},
   "source": [
    "#### NULL the tomcat :: der Kater"
   ]
  },
  {
   "cell_type": "code",
   "execution_count": null,
   "metadata": {},
   "outputs": [],
   "source": [
    "J = 1\n",
    "\n",
    "total = P(der|NULL)+P(der|the)+P(der|comcat)= 0.57 + 0.57 + 0.4 = 1.54\n",
    "\n",
    "tc(der|NULL) += P(der|NULL)/1.54 += 0.37 = 0.74\n",
    "tc(der|the) += P(der|the)/1.54 += 0.37 = 0.74\n",
    "tc(der|tomcat) += P(der|tomcat)/1.54 += 0.259 = 0.259"
   ]
  },
  {
   "cell_type": "code",
   "execution_count": null,
   "metadata": {},
   "outputs": [],
   "source": [
    "J = 2\n",
    "\n",
    "total = P(Kater|NULL)+P(Kater|the)+P(Kater|tomcat)= 0.214 +0.214 + 0.6 = 1.028\n",
    "\n",
    "tc(Kater|NULL) += P(Kater|NULL)/1.028 += 0.208 = 0.208\n",
    "tc(Kater|the) += P(Kater|the)/1.028 += 0.208 = 0.208\n",
    "tc(Kater|tomcat) += P(Kater|tomcat)/1.028 += 0.583 = 0.583"
   ]
  },
  {
   "cell_type": "markdown",
   "metadata": {},
   "source": [
    "### b) Re-compute translations (iteration 3)"
   ]
  },
  {
   "cell_type": "raw",
   "metadata": {},
   "source": [
    "total(the) = tc(der|the)+tc(Hund|the)+tc(Kater|the) = 0.74+0.208+0.208 = 1.156\n",
    "total(dog)= tc(der|dog)+tc(Hund|dog) = 0.259 +0.583= 0.842\n",
    "total(tomcat)=tc(der|tomcat)+tc(Kater|tomcat) =0.259+0.583= 0.842\n",
    "total(NULL)=tc(der|NULL)+tc(Hund|NULL)+tc(Kater|NULL)=0.74+0.208+0.208 =1.156"
   ]
  },
  {
   "cell_type": "raw",
   "metadata": {},
   "source": [
    "P(der|the) =     tc(der|the)/total(the)= 0.64\n",
    "P(Hund|the)=     tc(Hund|the)/total(the)= 0.18\n",
    "P(Kater|the)=    tc(Kater|the)/total(the)= 0.18\n",
    "P(der|dog)=      tc(der|dog)/total(dog)= 0.307\n",
    "P(Hund|dog)=     tc(Hund|dog)/total(dog)= 0.7\n",
    "P(der|tomcat)=   tc(der|tomcat)/total(tomcat)= 0.307\n",
    "P(Kater|tomcat)= tc(Kater|tomcat)/total(tomcat)= 0.7\n",
    "P(der|NULL)=     tc(der|NULL)/total(NULL)=  0.64\n",
    "P(Hund|NULL)=    tc(Hund|NULL)/total(NULL)= 0.18\n",
    "P(Kater|NULL)=   tc(Kater|NULL)/total(NULL)= 0.18"
   ]
  },
  {
   "cell_type": "raw",
   "metadata": {},
   "source": [
    "**Most likely signle word translations per English word:**\n",
    "P(der|the) =     0.64\n",
    "P(Hund|dog)=     0.7\n",
    "P(Kater|tomcat)= 0.7\n",
    "P(der|NULL)=     0.64"
   ]
  },
  {
   "cell_type": "markdown",
   "metadata": {},
   "source": [
    "# Problem 6.2"
   ]
  },
  {
   "cell_type": "markdown",
   "metadata": {},
   "source": [
    "Let's merge the tranlsation tables:"
   ]
  },
  {
   "cell_type": "code",
   "execution_count": 34,
   "metadata": {},
   "outputs": [],
   "source": [
    "df =pd.DataFrame(columns = [\" \",\"I\",\"jumped\",\"through\",\"some\",\"hoops\",\"to\",\"get\",\"the\",\"bait\"])"
   ]
  },
  {
   "cell_type": "code",
   "execution_count": 35,
   "metadata": {},
   "outputs": [],
   "source": [
    "from numpy.random import randint"
   ]
  },
  {
   "cell_type": "code",
   "execution_count": 36,
   "metadata": {},
   "outputs": [],
   "source": [
    "df.loc[0]=[\"Ich\"]+[\"X\",\"\",\"\",\"\",\"\",\"\",\"\",\"\",\"\"]\n",
    "df.loc[1]=[\"musste\"]+[\"\",\"\",\"\",\"\",\"\",\"\",\"\",\"\",\"\"]\n",
    "df.loc[2]=[\"einigen\"]+[\"\",\"\",\"\",\"X\",\"\",\"\",\"\",\"\",\"\"]\n",
    "df.loc[3]=[\"Aufwand\"]+[\"\",\"\",\"\",\"\",\"X\",\"\",\"\",\"\",\"\"]\n",
    "df.loc[4]=[\"betreiben\"]+[\"\",\"X\",\"X\",\"\",\"\",\"\",\"\",\"\",\"\"]\n",
    "df.loc[5]=[\"um\"]+[\"\",\"\",\"\",\"\",\"\",\"X\",\"\",\"\",\"\"]\n",
    "df.loc[6]=[\"die\"]+[\"\",\"\",\"\",\"\",\"\",\"\",\"\",\"X\",\"\"]\n",
    "df.loc[7]=[\"fette\"]+[\"\",\"\",\"\",\"\",\"\",\"\",\"\",\"\",\"X\"]\n",
    "df.loc[8]=[\"Beute\"]+[\"\",\"\",\"\",\"\",\"\",\"\",\"\",\"\",\"X\"]\n",
    "df.loc[9]=[\"zu\"]+[\"\",\"\",\"\",\"\",\"\",\"\",\"X\",\"\",\"\"]\n",
    "df.loc[10]=[\"bekommen\"]+[\"\",\"\",\"\",\"\",\"\",\"\",\"X\",\"\",\"\"]\n",
    "\n"
   ]
  },
  {
   "cell_type": "code",
   "execution_count": 37,
   "metadata": {},
   "outputs": [
    {
     "data": {
      "text/html": [
       "<div>\n",
       "<style scoped>\n",
       "    .dataframe tbody tr th:only-of-type {\n",
       "        vertical-align: middle;\n",
       "    }\n",
       "\n",
       "    .dataframe tbody tr th {\n",
       "        vertical-align: top;\n",
       "    }\n",
       "\n",
       "    .dataframe thead th {\n",
       "        text-align: right;\n",
       "    }\n",
       "</style>\n",
       "<table border=\"1\" class=\"dataframe\">\n",
       "  <thead>\n",
       "    <tr style=\"text-align: right;\">\n",
       "      <th></th>\n",
       "      <th></th>\n",
       "      <th>I</th>\n",
       "      <th>jumped</th>\n",
       "      <th>through</th>\n",
       "      <th>some</th>\n",
       "      <th>hoops</th>\n",
       "      <th>to</th>\n",
       "      <th>get</th>\n",
       "      <th>the</th>\n",
       "      <th>bait</th>\n",
       "    </tr>\n",
       "  </thead>\n",
       "  <tbody>\n",
       "    <tr>\n",
       "      <th>0</th>\n",
       "      <td>Ich</td>\n",
       "      <td>X</td>\n",
       "      <td></td>\n",
       "      <td></td>\n",
       "      <td></td>\n",
       "      <td></td>\n",
       "      <td></td>\n",
       "      <td></td>\n",
       "      <td></td>\n",
       "      <td></td>\n",
       "    </tr>\n",
       "    <tr>\n",
       "      <th>1</th>\n",
       "      <td>musste</td>\n",
       "      <td></td>\n",
       "      <td></td>\n",
       "      <td></td>\n",
       "      <td></td>\n",
       "      <td></td>\n",
       "      <td></td>\n",
       "      <td></td>\n",
       "      <td></td>\n",
       "      <td></td>\n",
       "    </tr>\n",
       "    <tr>\n",
       "      <th>2</th>\n",
       "      <td>einigen</td>\n",
       "      <td></td>\n",
       "      <td></td>\n",
       "      <td></td>\n",
       "      <td>X</td>\n",
       "      <td></td>\n",
       "      <td></td>\n",
       "      <td></td>\n",
       "      <td></td>\n",
       "      <td></td>\n",
       "    </tr>\n",
       "    <tr>\n",
       "      <th>3</th>\n",
       "      <td>Aufwand</td>\n",
       "      <td></td>\n",
       "      <td></td>\n",
       "      <td></td>\n",
       "      <td></td>\n",
       "      <td>X</td>\n",
       "      <td></td>\n",
       "      <td></td>\n",
       "      <td></td>\n",
       "      <td></td>\n",
       "    </tr>\n",
       "    <tr>\n",
       "      <th>4</th>\n",
       "      <td>betreiben</td>\n",
       "      <td></td>\n",
       "      <td>X</td>\n",
       "      <td>X</td>\n",
       "      <td></td>\n",
       "      <td></td>\n",
       "      <td></td>\n",
       "      <td></td>\n",
       "      <td></td>\n",
       "      <td></td>\n",
       "    </tr>\n",
       "    <tr>\n",
       "      <th>5</th>\n",
       "      <td>um</td>\n",
       "      <td></td>\n",
       "      <td></td>\n",
       "      <td></td>\n",
       "      <td></td>\n",
       "      <td></td>\n",
       "      <td>X</td>\n",
       "      <td></td>\n",
       "      <td></td>\n",
       "      <td></td>\n",
       "    </tr>\n",
       "    <tr>\n",
       "      <th>6</th>\n",
       "      <td>die</td>\n",
       "      <td></td>\n",
       "      <td></td>\n",
       "      <td></td>\n",
       "      <td></td>\n",
       "      <td></td>\n",
       "      <td></td>\n",
       "      <td></td>\n",
       "      <td>X</td>\n",
       "      <td></td>\n",
       "    </tr>\n",
       "    <tr>\n",
       "      <th>7</th>\n",
       "      <td>fette</td>\n",
       "      <td></td>\n",
       "      <td></td>\n",
       "      <td></td>\n",
       "      <td></td>\n",
       "      <td></td>\n",
       "      <td></td>\n",
       "      <td></td>\n",
       "      <td></td>\n",
       "      <td>X</td>\n",
       "    </tr>\n",
       "    <tr>\n",
       "      <th>8</th>\n",
       "      <td>Beute</td>\n",
       "      <td></td>\n",
       "      <td></td>\n",
       "      <td></td>\n",
       "      <td></td>\n",
       "      <td></td>\n",
       "      <td></td>\n",
       "      <td></td>\n",
       "      <td></td>\n",
       "      <td>X</td>\n",
       "    </tr>\n",
       "    <tr>\n",
       "      <th>9</th>\n",
       "      <td>zu</td>\n",
       "      <td></td>\n",
       "      <td></td>\n",
       "      <td></td>\n",
       "      <td></td>\n",
       "      <td></td>\n",
       "      <td></td>\n",
       "      <td>X</td>\n",
       "      <td></td>\n",
       "      <td></td>\n",
       "    </tr>\n",
       "    <tr>\n",
       "      <th>10</th>\n",
       "      <td>bekommen</td>\n",
       "      <td></td>\n",
       "      <td></td>\n",
       "      <td></td>\n",
       "      <td></td>\n",
       "      <td></td>\n",
       "      <td></td>\n",
       "      <td>X</td>\n",
       "      <td></td>\n",
       "      <td></td>\n",
       "    </tr>\n",
       "  </tbody>\n",
       "</table>\n",
       "</div>"
      ],
      "text/plain": [
       "               I jumped through some hoops to get the bait\n",
       "0         Ich  X                                          \n",
       "1      musste                                             \n",
       "2     einigen                      X                      \n",
       "3     Aufwand                            X                \n",
       "4   betreiben         X       X                           \n",
       "5          um                               X             \n",
       "6         die                                       X     \n",
       "7       fette                                            X\n",
       "8       Beute                                            X\n",
       "9          zu                                   X         \n",
       "10   bekommen                                   X         "
      ]
     },
     "execution_count": 37,
     "metadata": {},
     "output_type": "execute_result"
    }
   ],
   "source": [
    "df"
   ]
  },
  {
   "cell_type": "raw",
   "metadata": {},
   "source": [
    "Pairs:\n",
    "[I,Ich],[jumped through, betreiben], [some,einigen], [hoops,Aufwand], [to, um],[get,zu bekommen],[the,die],[bait,fette Beute]"
   ]
  },
  {
   "cell_type": "raw",
   "metadata": {},
   "source": [
    "[some hoops, einigen Aufwand],[the bait, die fette Beute]"
   ]
  },
  {
   "cell_type": "raw",
   "metadata": {},
   "source": [
    "[jumped through some hoops,einigen Aufwand betreiben],[get the bait, die fette Beute zu bekommen]"
   ]
  },
  {
   "cell_type": "raw",
   "metadata": {},
   "source": [
    "[I jumped through some hoops,Ich musste einigen Aufand betreiben],[jumped through some hoops to ,einigen Aufwand betreiben um],[to get the bait, um die fette Beute zu bekommen]"
   ]
  },
  {
   "cell_type": "raw",
   "metadata": {},
   "source": [
    "[I jumped through some hoops to,Ich musste einigen Aufand betreiben um], \n",
    "[jumped through some hoops to get the bait ,einigen Aufwand betreiben um die fette Beute zu bekommen],\n",
    "[I jumped through some hoops to get the bait, Ich musste einigen Aufwand betreiben um die fette Beute zu bekommen]\n"
   ]
  },
  {
   "cell_type": "markdown",
   "metadata": {},
   "source": [
    "**Answer: 18 pairs in total** \n",
    "\n",
    "(the subtleties are not covered in lecture/internet, so there may be more pairs (e.g. what to do with musste?))"
   ]
  },
  {
   "cell_type": "markdown",
   "metadata": {},
   "source": [
    "# Problem 6.3"
   ]
  },
  {
   "cell_type": "markdown",
   "metadata": {},
   "source": [
    "### a)"
   ]
  },
  {
   "cell_type": "raw",
   "metadata": {},
   "source": [
    "google: \"Гарри должен иметь дело с горем так же как радостью после королевского рождения\"\n",
    "yandex: \"Гарри должен справиться с горем, а также радостью после королевского рождения\"\n",
    "bing: \"Гарри должны иметь дело с горя, а также радость после королевского рождения\"\n",
    "deepl.com: \"Гарри должен справиться как с горем, так и с радостью после королевского рождения.\"\n",
    "\n",
    "Analysis\n",
    "Bing has performed  terrible. Both google and yandex keep the meaning of the sentence, but still there are some minor lexical/grammar errors. Only deepl has translated perfectly and more than adequately\""
   ]
  },
  {
   "cell_type": "markdown",
   "metadata": {},
   "source": [
    "### b)"
   ]
  },
  {
   "cell_type": "raw",
   "metadata": {},
   "source": [
    "Wir Wiener Waschfrauen wollten weiße Wäsche waschen, wenn wir wüssten, wo warmes Wasser wäre.\n",
    "\n",
    "google -> We Viennese washing women wanted to wash white clothes, if we knew where warm water would be ->Wir Wiener Waschfrauen wollten weiße Wäsche waschen, wenn wir wüssten, wo warmes Wasser wäre.\n",
    "\n",
    "yandex -> We Viennese Laundry women would wash white Laundry if we knew where warm water would be -> Wir Wiener Wäscherinnen würden weiße Wäsche waschen, wenn wir wüssten, wo warmes Wasser wäre.\n",
    "\n",
    "bing -> We Viennese waswwomen wanted to do white laundry if we knew where warm water would be. -> Wir Wiener wollten weiße Wäsche waschen, wenn wir wüssten, wo warmes Wasser sein würde.\n",
    "\n",
    "deepl.com -> We Viennese washerwomen wanted to wash white laundry if we knew where there was hot water. - > Wir Wiener Waschfrauen wollten weiße Wäsche waschen, wenn wir wüssten, wo es heißes Wasser gibt."
   ]
  },
  {
   "cell_type": "code",
   "execution_count": 96,
   "metadata": {},
   "outputs": [],
   "source": [
    "from nltk.translate.bleu_score import sentence_bleu,corpus_bleu\n",
    "reference = [['Wir', 'Wiener', 'Waschfrauen', 'wolltern','weiße','Wäsche',\n",
    "              'waschen', 'wenn' ,'wir', 'wüssten', 'wo', 'warmes','Wasser','wäre']]\n",
    "\n",
    "\n",
    "candidate_eng_google = ['Wir', 'Wiener', 'Waschfrauen', 'wollten', 'weiße', 'Wäsche',\n",
    "              'waschen', 'wenn', 'wir','wüssten', 'wo', 'warmes', 'Wasser', 'wäre']\n",
    "candidate_eng_yandex =['Wir', 'Wiener', 'Wäscherinnen', 'würden', 'weiße', 'Wäsche',\n",
    "                        'waschen', 'wenn', 'wir', 'wüssten', 'wo','warmes','Wasser', 'wäre']\n",
    "candidate_eng_bing = ['Wir', 'Wiener', 'wollten', 'weiße', 'Wäsche', 'waschen', 'wenn',\n",
    "                       'wir', 'wüssten', 'wo', 'warmes', 'Wasser', 'sein', 'würde']\n",
    "candidate_eng_deepl = ['Wir', 'Wiener', 'Waschfrauen', 'wollten', 'weiße', 'Wäsche', 'waschen',\n",
    "                        'wenn', 'wir', 'wüssten', 'wo', 'es', 'heißes', 'Wasser', 'gibt']\n",
    "#candidate_eng_google = reference "
   ]
  },
  {
   "cell_type": "raw",
   "metadata": {},
   "source": [
    "# Example calculation by hand:\n",
    "Unigrams_reference: 14, Bigrams_reference: 13, trigrams_reference: 12\n",
    "Unigrams_eng_google: 14, Bigrams_eng_google: 13, trigrams_eng_google: 12\n",
    "precision_1 = 13/14 (wolltern vs. wollten)\n",
    "precision_2 = 11/13\n",
    "precision_3 =  9/12 "
   ]
  },
  {
   "cell_type": "code",
   "execution_count": 97,
   "metadata": {},
   "outputs": [
    {
     "name": "stdout",
     "output_type": "stream",
     "text": [
      "BLEU3 score using translate.google with English as bridge languagy by HAND:  0.7948868252814318\n"
     ]
    }
   ],
   "source": [
    "import math\n",
    "print('BLEU3 score using translate.google with English as bridge languagy by HAND: ',\n",
    "math.exp(1* math.log(13/14) + 0.5*math.log(11/13) + 0.25*math.log(9/12)) )"
   ]
  },
  {
   "cell_type": "code",
   "execution_count": 98,
   "metadata": {},
   "outputs": [
    {
     "name": "stdout",
     "output_type": "stream",
     "text": [
      "BLEU3 score using translate.google with English as bridge language: 0.794887\n",
      "BLEU3 score using translate.yandex with English as bridge language: 0.679295\n",
      "BLEU3 score using bing/translator with English as bridge language: 0.571338\n",
      "BLEU3 score using deepl.com with English as bridge language: 0.456914\n"
     ]
    }
   ],
   "source": [
    "# It was not stated whether the calculation should be performed by hand or not\n",
    "print('BLEU3 score using translate.google with English as bridge language: %f' % sentence_bleu(reference, candidate_eng_google, weights=(1.0, 0.5, 0.25, 0)))\n",
    "print('BLEU3 score using translate.yandex with English as bridge language: %f' % sentence_bleu(reference, candidate_eng_yandex, weights=(1.0, 0.5, 0.25, 0)))\n",
    "print('BLEU3 score using bing/translator with English as bridge language: %f' % sentence_bleu(reference, candidate_eng_bing, weights=(1.0, 0.5, 0.25, 0)))\n",
    "print('BLEU3 score using deepl.com with English as bridge language: %f' % sentence_bleu(reference, candidate_eng_deepl, weights=(1.0, 0.5, 0.25, 0)))\n"
   ]
  },
  {
   "cell_type": "markdown",
   "metadata": {},
   "source": [
    "### The score by hand is the same as if calculate by sentence_bleu!"
   ]
  },
  {
   "cell_type": "markdown",
   "metadata": {},
   "source": [
    "### c)"
   ]
  },
  {
   "cell_type": "raw",
   "metadata": {},
   "source": [
    "google -> Nous, femmes de la lessive viennoises, voulions laver des vêtements blancs si nous savions où se trouverait de l'eau chaude. -> Wir, die Wiener Wäscherinnen, wollten weiße Kleidung waschen, wenn wir wüssten, wo das heiße Wasser sein würde.\n",
    "\n",
    "yandex -> Nous, les laveuses viennoises, nous voulions laver le linge blanc si nous savions où se trouvait l ' eau chaude. -> Wir Wiener wascherinnen wollten die weiße Wäsche waschen, wenn wir wüssten, wo das heiße Wasser ist.\n",
    "\n",
    "bing -> Nous, les femmes viennoises, voulions faire du linge blanc si nous savions où serait l’eau chaude. ->\n",
    "Wir, die Wiener Frauen, wollten weiße Wäsche machen, wenn wir wüssten, wo das heiße Wasser sein würde.\n",
    "\n",
    "deepl.com -> Nous, les lavandières viennoises, nous voulions laver le linge blanc si nous savions où il y a de l'eau chaude. -> Wir, die Wiener Waschfrau, wollten die weiße Wäsche waschen, wenn wir wissen, wo es heißes Wasser gibt."
   ]
  },
  {
   "cell_type": "code",
   "execution_count": 84,
   "metadata": {},
   "outputs": [],
   "source": [
    "reference = [['Wir', 'Wiener', 'Waschfrauen', 'wolltern','weiße','Wäsche',\n",
    "              'waschen', 'wenn' ,'wir', 'wüssten', 'wo', 'warmes','Wasser','wäre']]\n",
    "\n",
    "candidate_fr_google = ['Wir', 'die', 'Wiener', 'Wäscherinnen', 'wollten', 'weiße', 'Kleidung',\n",
    "                         'waschen', 'wenn', 'wir', 'wüssten', 'wo', 'das', 'heiße', 'Wasser', 'sein', 'würde']\n",
    "candidate_fr_yandex =['Wir', 'Wiener', 'wascherinnen', 'wollten', 'die', 'weiße', 'Wäsche',\n",
    "                         'waschen', 'wenn', 'wir', 'wüssten', 'wo', 'das', 'heiße', 'Wasser', 'ist']\n",
    "candidate_fr_bing = ['Wir', 'die', 'Wiener', 'Frauen', 'wollten', 'weiße', 'Wäsche', 'machen',\n",
    "                     'wenn', 'wir', 'wüssten', 'wo', 'das', 'heiße', 'Wasser', 'sein', 'würde']\n",
    "candidate_fr_deepl =['Wir', 'die', 'Wiener', 'Waschfrau', 'wollten', 'die', 'weiße', 'Wäsche',\n",
    "                      'waschen', 'wenn', 'wir', 'wissen', 'wo', 'es', 'heißes', 'Wasser', 'gibt']"
   ]
  },
  {
   "cell_type": "code",
   "execution_count": 85,
   "metadata": {},
   "outputs": [
    {
     "name": "stdout",
     "output_type": "stream",
     "text": [
      "BLEU3 score using translate.google with French as bridge language: 0.177019\n",
      "BLEU3 score using translate.yandex with French as bridge language: 0.330061\n",
      "BLEU3 score using bing/translator with French as bridge language: 0.159955\n",
      "BLEU3 score using deepl.com with French as bridge language: 0.177019\n"
     ]
    }
   ],
   "source": [
    "# It was not stated whether the calculation should be performed by hand or not\n",
    "print('BLEU3 score using translate.google with French as bridge language: %f' % sentence_bleu(reference, candidate_fr_google, weights=(1.0, 0.5, 0.25, 0)))\n",
    "print('BLEU3 score using translate.yandex with French as bridge language: %f' % sentence_bleu(reference, candidate_fr_yandex, weights=(1.0, 0.5, 0.25, 0)))\n",
    "print('BLEU3 score using bing/translator with French as bridge language: %f' % sentence_bleu(reference, candidate_fr_bing, weights=(1.0, 0.5, 0.25, 0)))\n",
    "print('BLEU3 score using deepl.com with French as bridge language: %f' % sentence_bleu(reference, candidate_fr_deepl, weights=(1.0, 0.5, 0.25, 0)))\n"
   ]
  },
  {
   "cell_type": "markdown",
   "metadata": {},
   "source": [
    "### d)"
   ]
  },
  {
   "cell_type": "raw",
   "metadata": {},
   "source": [
    "The BLEU3 score has severely dropped after using French as a bridge language, using all 4 systems.  These are the possible reasons translation quality has changed a lot:\n",
    "- English is international language, therefore more efforts were dedicated to create translation model in it.\n",
    "- French is harder to translate than English due to complexity of the language"
   ]
  },
  {
   "cell_type": "code",
   "execution_count": null,
   "metadata": {},
   "outputs": [],
   "source": []
  }
 ],
 "metadata": {
  "kernelspec": {
   "display_name": "Python 3",
   "language": "python",
   "name": "python3"
  },
  "language_info": {
   "codemirror_mode": {
    "name": "ipython",
    "version": 3
   },
   "file_extension": ".py",
   "mimetype": "text/x-python",
   "name": "python",
   "nbconvert_exporter": "python",
   "pygments_lexer": "ipython3",
   "version": "3.6.8"
  }
 },
 "nbformat": 4,
 "nbformat_minor": 2
}
